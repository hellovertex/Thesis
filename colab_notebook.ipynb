{
  "nbformat": 4,
  "nbformat_minor": 0,
  "metadata": {
    "colab": {
      "name": "playground.ipynb",
      "provenance": [],
      "authorship_tag": "ABX9TyMrI5zCDOAIYQigjFx31sUR",
      "include_colab_link": true
    },
    "kernelspec": {
      "name": "python3",
      "display_name": "Python 3"
    },
    "language_info": {
      "name": "python"
    }
  },
  "cells": [
    {
      "cell_type": "markdown",
      "metadata": {
        "id": "view-in-github",
        "colab_type": "text"
      },
      "source": [
        "<a href=\"https://colab.research.google.com/github/hellovertex/Thesis/blob/dev/colab_notebook.ipynb\" target=\"_parent\"><img src=\"https://colab.research.google.com/assets/colab-badge.svg\" alt=\"Open In Colab\"/></a>"
      ]
    },
    {
      "cell_type": "code",
      "execution_count": null,
      "metadata": {
        "colab": {
          "base_uri": "https://localhost:8080/"
        },
        "id": "zPuqPOgiFlsx",
        "outputId": "4341ebb6-cb45-43be-d005-088e9a4db1d3"
      },
      "outputs": [
        {
          "output_type": "stream",
          "name": "stdout",
          "text": [
            "Cloning into 'Thesis'...\n",
            "remote: Enumerating objects: 7, done.\u001b[K\n",
            "remote: Counting objects: 100% (7/7), done.\u001b[K\n",
            "remote: Compressing objects: 100% (6/6), done.\u001b[K\n",
            "remote: Total 7 (delta 1), reused 3 (delta 0), pack-reused 0\u001b[K\n",
            "Unpacking objects: 100% (7/7), done.\n"
          ]
        }
      ],
      "source": [
        "! git clone --recurse-submodules https://github.com/hellovertex/Thesis.git"
      ]
    },
    {
      "cell_type": "code",
      "source": [
        "%cd Thesis"
      ],
      "metadata": {
        "colab": {
          "base_uri": "https://localhost:8080/"
        },
        "id": "RxByBaDkF6p4",
        "outputId": "0ed3588a-ad0c-498a-f660-2e9d0f397a65"
      },
      "execution_count": null,
      "outputs": [
        {
          "output_type": "stream",
          "name": "stdout",
          "text": [
            "/content/Thesis\n"
          ]
        }
      ]
    },
    {
      "cell_type": "code",
      "source": [
        "import sys, os\n",
        "sys.path.append(os.getcwd())"
      ],
      "metadata": {
        "id": "j8D6_gPeF_wo"
      },
      "execution_count": null,
      "outputs": []
    },
    {
      "cell_type": "code",
      "source": [
        "! git checkout dev"
      ],
      "metadata": {
        "colab": {
          "base_uri": "https://localhost:8080/"
        },
        "id": "SzVic4twGBUw",
        "outputId": "8728c436-7cd1-45a7-a258-fb930fa4a7bf"
      },
      "execution_count": null,
      "outputs": [
        {
          "output_type": "stream",
          "name": "stdout",
          "text": [
            "Branch 'dev' set up to track remote branch 'dev' from 'origin'.\n",
            "Switched to a new branch 'dev'\n"
          ]
        }
      ]
    },
    {
      "cell_type": "code",
      "source": [
        "! git submodule init"
      ],
      "metadata": {
        "colab": {
          "base_uri": "https://localhost:8080/"
        },
        "id": "0FkDaHPXGJM4",
        "outputId": "db771836-c1c4-4914-e89f-00da0ec33556"
      },
      "execution_count": null,
      "outputs": [
        {
          "output_type": "stream",
          "name": "stdout",
          "text": [
            "Submodule 'Poker' (https://github.com/hellovertex/Poker) registered for path 'Poker'\n",
            "Submodule 'neuron_poker' (https://github.com/hellovertex/neuron_poker) registered for path 'neuron_poker'\n"
          ]
        }
      ]
    },
    {
      "cell_type": "code",
      "source": [
        "! git submodule update"
      ],
      "metadata": {
        "colab": {
          "base_uri": "https://localhost:8080/"
        },
        "id": "0A1BPF8uGg1f",
        "outputId": "6696a27e-d053-49dc-a224-e622f4bbba8c"
      },
      "execution_count": null,
      "outputs": [
        {
          "output_type": "stream",
          "name": "stdout",
          "text": [
            "Cloning into '/content/Thesis/Poker'...\n",
            "Cloning into '/content/Thesis/neuron_poker'...\n",
            "Submodule path 'Poker': checked out 'b7642f0277e267e1a44eab957c4c7d1d8f50f4ee'\n",
            "Submodule path 'neuron_poker': checked out '9f841e5aeead681fa1fb2955524c53081fba2078'\n"
          ]
        }
      ]
    },
    {
      "cell_type": "code",
      "source": [
        "! pip install -r neuron_poker/requirements.txt"
      ],
      "metadata": {
        "id": "2XNrjpK8GzxV"
      },
      "execution_count": null,
      "outputs": []
    },
    {
      "cell_type": "code",
      "source": [
        "! python neuron_poker/main.py selfplay equity_improvement --improvement_rounds=20 --episodes=10"
      ],
      "metadata": {
        "id": "eicjkevhIyPd"
      },
      "execution_count": null,
      "outputs": []
    },
    {
      "cell_type": "code",
      "source": [
        "from google.colab import drive\n",
        "drive._mount('/content/drive')"
      ],
      "metadata": {
        "id": "e19-_XoFZ-wI",
        "outputId": "c3e4d7d5-88e0-4328-b132-589fcedc5b54",
        "colab": {
          "base_uri": "https://localhost:8080/"
        }
      },
      "execution_count": 3,
      "outputs": [
        {
          "output_type": "stream",
          "name": "stdout",
          "text": [
            "Mounted at /content/drive\n"
          ]
        }
      ]
    },
    {
      "cell_type": "code",
      "source": [
        "! pip install mlflow[extras]"
      ],
      "metadata": {
        "id": "q0GxWKbIb4kd"
      },
      "execution_count": null,
      "outputs": []
    },
    {
      "cell_type": "code",
      "source": [
        "import mlflow\n",
        "mlflow.set_tracking_uri(\"file:///content/drive/MyDrive/Thesis/mlruns\")"
      ],
      "metadata": {
        "id": "5I7jMgXRcGKJ"
      },
      "execution_count": 7,
      "outputs": []
    },
    {
      "cell_type": "code",
      "source": [
        "with mlflow.start_run():\n",
        "  mlflow.log_param(\"alpha\", 0.1)"
      ],
      "metadata": {
        "id": "tBSy5tyXcZlq"
      },
      "execution_count": 8,
      "outputs": []
    },
    {
      "cell_type": "code",
      "source": [
        "# todo push changes to github (write functions for that) consider using %run"
      ],
      "metadata": {
        "id": "fehIbRfGcUC3"
      },
      "execution_count": null,
      "outputs": []
    }
  ]
}