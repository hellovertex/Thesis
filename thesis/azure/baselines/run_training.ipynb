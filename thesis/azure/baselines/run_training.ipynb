{
 "cells": [
  {
   "cell_type": "code",
   "execution_count": 18,
   "metadata": {
    "collapsed": true
   },
   "outputs": [],
   "source": [
    "from azureml.core import Workspace\n",
    "from azureml.core import ScriptRunConfig\n",
    "from azureml.core import Environment\n",
    "from azureml.core import Experiment\n",
    "\n",
    "ws = Workspace.from_config()\n",
    "compute_target = ws.compute_targets['sla-k80']\n",
    "PROJECT_ROOT = '../../../'\n",
    "environment = Environment.from_pip_requirements('env', PROJECT_ROOT+'requirements.txt')"
   ]
  },
  {
   "cell_type": "code",
   "execution_count": 19,
   "outputs": [],
   "source": [
    "config = ScriptRunConfig(\n",
    "    compute_target=compute_target,  # compute target used to run train.py script\n",
    "    source_directory=PROJECT_ROOT,\n",
    "    environment=environment,\n",
    "    script='thesis/baselines/supervised_learning/modelling/train.py',\n",
    ")"
   ],
   "metadata": {
    "collapsed": false,
    "pycharm": {
     "name": "#%%\n"
    }
   }
  },
  {
   "cell_type": "code",
   "execution_count": 20,
   "outputs": [
    {
     "name": "stderr",
     "output_type": "stream",
     "text": [
      "Submitting C:\\Users\\hellovertex\\Documents\\github.com\\hellovertex\\Thesis directory for run. The size of the directory >= 25 MB, so it can take a few minutes.\n"
     ]
    },
    {
     "ename": "SnapshotException",
     "evalue": "SnapshotException:\n\tMessage: ====================================================================\n\nWhile attempting to take snapshot of C:\\Users\\hellovertex\\Documents\\github.com\\hellovertex\\Thesis\nYour total snapshot size exceeds the limit of 300.0 MB.\nPlease see http://aka.ms/aml-largefiles on how to work with large files.\n\n====================================================================\n\n\n\tInnerException None\n\tErrorResponse \n{\n    \"error\": {\n        \"message\": \"====================================================================\\n\\nWhile attempting to take snapshot of C:\\\\Users\\\\hellovertex\\\\Documents\\\\github.com\\\\hellovertex\\\\Thesis\\nYour total snapshot size exceeds the limit of 300.0 MB.\\nPlease see http://aka.ms/aml-largefiles on how to work with large files.\\n\\n====================================================================\\n\\n\"\n    }\n}",
     "output_type": "error",
     "traceback": [
      "\u001B[1;31m---------------------------------------------------------------------------\u001B[0m",
      "\u001B[1;31mSnapshotException\u001B[0m                         Traceback (most recent call last)",
      "Input \u001B[1;32mIn [20]\u001B[0m, in \u001B[0;36m<cell line: 2>\u001B[1;34m()\u001B[0m\n\u001B[0;32m      1\u001B[0m exp \u001B[38;5;241m=\u001B[39m Experiment(ws, \u001B[38;5;124m'\u001B[39m\u001B[38;5;124msupervised_baseline_training\u001B[39m\u001B[38;5;124m'\u001B[39m)\n\u001B[1;32m----> 2\u001B[0m run \u001B[38;5;241m=\u001B[39m \u001B[43mexp\u001B[49m\u001B[38;5;241;43m.\u001B[39;49m\u001B[43msubmit\u001B[49m\u001B[43m(\u001B[49m\u001B[43mconfig\u001B[49m\u001B[43m)\u001B[49m\n\u001B[0;32m      3\u001B[0m \u001B[38;5;28mprint\u001B[39m(run\u001B[38;5;241m.\u001B[39mget_portal_url())\n",
      "File \u001B[1;32m~\\Documents\\github.com\\hellovertex\\Thesis\\venv\\lib\\site-packages\\azureml\\core\\experiment.py:220\u001B[0m, in \u001B[0;36mExperiment.submit\u001B[1;34m(self, config, tags, **kwargs)\u001B[0m\n\u001B[0;32m    218\u001B[0m submit_func \u001B[38;5;241m=\u001B[39m get_experiment_submit(config)\n\u001B[0;32m    219\u001B[0m \u001B[38;5;28;01mwith\u001B[39;00m \u001B[38;5;28mself\u001B[39m\u001B[38;5;241m.\u001B[39m_log_context(\u001B[38;5;124m\"\u001B[39m\u001B[38;5;124msubmit config \u001B[39m\u001B[38;5;132;01m{}\u001B[39;00m\u001B[38;5;124m\"\u001B[39m\u001B[38;5;241m.\u001B[39mformat(config\u001B[38;5;241m.\u001B[39m\u001B[38;5;18m__class__\u001B[39m\u001B[38;5;241m.\u001B[39m\u001B[38;5;18m__name__\u001B[39m)):\n\u001B[1;32m--> 220\u001B[0m     run \u001B[38;5;241m=\u001B[39m \u001B[43msubmit_func\u001B[49m\u001B[43m(\u001B[49m\u001B[43mconfig\u001B[49m\u001B[43m,\u001B[49m\u001B[43m \u001B[49m\u001B[38;5;28;43mself\u001B[39;49m\u001B[38;5;241;43m.\u001B[39;49m\u001B[43mworkspace\u001B[49m\u001B[43m,\u001B[49m\u001B[43m \u001B[49m\u001B[38;5;28;43mself\u001B[39;49m\u001B[38;5;241;43m.\u001B[39;49m\u001B[43mname\u001B[49m\u001B[43m,\u001B[49m\u001B[43m \u001B[49m\u001B[38;5;241;43m*\u001B[39;49m\u001B[38;5;241;43m*\u001B[39;49m\u001B[43mkwargs\u001B[49m\u001B[43m)\u001B[49m\n\u001B[0;32m    221\u001B[0m \u001B[38;5;28;01mif\u001B[39;00m tags \u001B[38;5;129;01mis\u001B[39;00m \u001B[38;5;129;01mnot\u001B[39;00m \u001B[38;5;28;01mNone\u001B[39;00m:\n\u001B[0;32m    222\u001B[0m     run\u001B[38;5;241m.\u001B[39mset_tags(tags)\n",
      "File \u001B[1;32m~\\Documents\\github.com\\hellovertex\\Thesis\\venv\\lib\\site-packages\\azureml\\core\\script_run_config.py:63\u001B[0m, in \u001B[0;36msubmit\u001B[1;34m(script_run_config, workspace, experiment_name, run_id, _parent_run_id, credential_passthrough)\u001B[0m\n\u001B[0;32m     60\u001B[0m inputs, _ \u001B[38;5;241m=\u001B[39m _update_args_and_io(workspace, run_config)\n\u001B[0;32m     61\u001B[0m collect_datasets_usage(module_logger, _SCRIPT_RUN_SUBMIT_ACTIVITY, inputs,\n\u001B[0;32m     62\u001B[0m                        workspace, run_config\u001B[38;5;241m.\u001B[39mtarget)\n\u001B[1;32m---> 63\u001B[0m run \u001B[38;5;241m=\u001B[39m \u001B[43m_commands\u001B[49m\u001B[38;5;241;43m.\u001B[39;49m\u001B[43mstart_run\u001B[49m\u001B[43m(\u001B[49m\u001B[43mproject\u001B[49m\u001B[43m,\u001B[49m\u001B[43m \u001B[49m\u001B[43mrun_config\u001B[49m\u001B[43m,\u001B[49m\n\u001B[0;32m     64\u001B[0m \u001B[43m                          \u001B[49m\u001B[43mtelemetry_values\u001B[49m\u001B[38;5;241;43m=\u001B[39;49m\u001B[43mscript_run_config\u001B[49m\u001B[38;5;241;43m.\u001B[39;49m\u001B[43m_telemetry_values\u001B[49m\u001B[43m,\u001B[49m\n\u001B[0;32m     65\u001B[0m \u001B[43m                          \u001B[49m\u001B[43mrun_id\u001B[49m\u001B[38;5;241;43m=\u001B[39;49m\u001B[43mrun_id\u001B[49m\u001B[43m,\u001B[49m\u001B[43m \u001B[49m\u001B[43mparent_run_id\u001B[49m\u001B[38;5;241;43m=\u001B[39;49m\u001B[43m_parent_run_id\u001B[49m\u001B[43m)\u001B[49m\n\u001B[0;32m     66\u001B[0m run\u001B[38;5;241m.\u001B[39madd_properties(global_tracking_info_registry\u001B[38;5;241m.\u001B[39mgather_all(script_run_config\u001B[38;5;241m.\u001B[39msource_directory))\n\u001B[0;32m     68\u001B[0m \u001B[38;5;28;01mreturn\u001B[39;00m run\n",
      "File \u001B[1;32m~\\Documents\\github.com\\hellovertex\\Thesis\\venv\\lib\\site-packages\\azureml\\_execution\\_commands.py:120\u001B[0m, in \u001B[0;36mstart_run\u001B[1;34m(project_object, run_config_object, run_id, injected_files, telemetry_values, parent_run_id, prepare_only, check)\u001B[0m\n\u001B[0;32m    117\u001B[0m     \u001B[38;5;28;01mreturn\u001B[39;00m _start_internal_local_cloud(project_object, run_config_object,\n\u001B[0;32m    118\u001B[0m                                        \u001B[38;5;241m*\u001B[39m\u001B[38;5;241m*\u001B[39mshared_start_run_kwargs)\n\u001B[0;32m    119\u001B[0m \u001B[38;5;28;01melse\u001B[39;00m:\n\u001B[1;32m--> 120\u001B[0m     \u001B[38;5;28;01mreturn\u001B[39;00m \u001B[43m_start_internal\u001B[49m\u001B[43m(\u001B[49m\u001B[43mproject_object\u001B[49m\u001B[43m,\u001B[49m\u001B[43m \u001B[49m\u001B[43mrun_config_object\u001B[49m\u001B[43m,\u001B[49m\u001B[43m \u001B[49m\u001B[43mprepare_check\u001B[49m\u001B[38;5;241;43m=\u001B[39;49m\u001B[43mcheck\u001B[49m\u001B[43m,\u001B[49m\n\u001B[0;32m    121\u001B[0m \u001B[43m                           \u001B[49m\u001B[38;5;241;43m*\u001B[39;49m\u001B[38;5;241;43m*\u001B[39;49m\u001B[43mshared_start_run_kwargs\u001B[49m\u001B[43m)\u001B[49m\n",
      "File \u001B[1;32m~\\Documents\\github.com\\hellovertex\\Thesis\\venv\\lib\\site-packages\\azureml\\_execution\\_commands.py:402\u001B[0m, in \u001B[0;36m_start_internal\u001B[1;34m(project_object, run_config_object, prepare_only, prepare_check, custom_target_dict, run_id, injected_files, telemetry_values, parent_run_id)\u001B[0m\n\u001B[0;32m    398\u001B[0m run_id_query \u001B[38;5;241m=\u001B[39m urllib3\u001B[38;5;241m.\u001B[39mrequest\u001B[38;5;241m.\u001B[39murlencode({\u001B[38;5;124m\"\u001B[39m\u001B[38;5;124mrunId\u001B[39m\u001B[38;5;124m\"\u001B[39m: run_id})\n\u001B[0;32m    400\u001B[0m uri \u001B[38;5;241m+\u001B[39m\u001B[38;5;241m=\u001B[39m \u001B[38;5;124m\"\u001B[39m\u001B[38;5;124m?\u001B[39m\u001B[38;5;124m\"\u001B[39m \u001B[38;5;241m+\u001B[39m run_id_query\n\u001B[1;32m--> 402\u001B[0m snapshot_id \u001B[38;5;241m=\u001B[39m \u001B[43msnapshot_async\u001B[49m\u001B[38;5;241;43m.\u001B[39;49m\u001B[43mget\u001B[49m\u001B[43m(\u001B[49m\u001B[43m)\u001B[49m \u001B[38;5;28;01mif\u001B[39;00m snapshot_async \u001B[38;5;28;01melse\u001B[39;00m \u001B[38;5;28;01mNone\u001B[39;00m\n\u001B[0;32m    403\u001B[0m thread_pool\u001B[38;5;241m.\u001B[39mclose()\n\u001B[0;32m    405\u001B[0m definition \u001B[38;5;241m=\u001B[39m {\n\u001B[0;32m    406\u001B[0m     \u001B[38;5;124m\"\u001B[39m\u001B[38;5;124mTargetDetails\u001B[39m\u001B[38;5;124m\"\u001B[39m: custom_target_dict,\n\u001B[0;32m    407\u001B[0m     \u001B[38;5;124m\"\u001B[39m\u001B[38;5;124mConfiguration\u001B[39m\u001B[38;5;124m\"\u001B[39m: _serialize_run_config_to_dict(run_config_object),\n\u001B[0;32m    408\u001B[0m     \u001B[38;5;124m\"\u001B[39m\u001B[38;5;124mTelemetryValues\u001B[39m\u001B[38;5;124m\"\u001B[39m: telemetry_values\n\u001B[0;32m    409\u001B[0m }\n",
      "File \u001B[1;32m~\\AppData\\Local\\Programs\\Python\\Python38\\lib\\multiprocessing\\pool.py:771\u001B[0m, in \u001B[0;36mApplyResult.get\u001B[1;34m(self, timeout)\u001B[0m\n\u001B[0;32m    769\u001B[0m     \u001B[38;5;28;01mreturn\u001B[39;00m \u001B[38;5;28mself\u001B[39m\u001B[38;5;241m.\u001B[39m_value\n\u001B[0;32m    770\u001B[0m \u001B[38;5;28;01melse\u001B[39;00m:\n\u001B[1;32m--> 771\u001B[0m     \u001B[38;5;28;01mraise\u001B[39;00m \u001B[38;5;28mself\u001B[39m\u001B[38;5;241m.\u001B[39m_value\n",
      "File \u001B[1;32m~\\AppData\\Local\\Programs\\Python\\Python38\\lib\\multiprocessing\\pool.py:125\u001B[0m, in \u001B[0;36mworker\u001B[1;34m(inqueue, outqueue, initializer, initargs, maxtasks, wrap_exception)\u001B[0m\n\u001B[0;32m    123\u001B[0m job, i, func, args, kwds \u001B[38;5;241m=\u001B[39m task\n\u001B[0;32m    124\u001B[0m \u001B[38;5;28;01mtry\u001B[39;00m:\n\u001B[1;32m--> 125\u001B[0m     result \u001B[38;5;241m=\u001B[39m (\u001B[38;5;28;01mTrue\u001B[39;00m, \u001B[43mfunc\u001B[49m\u001B[43m(\u001B[49m\u001B[38;5;241;43m*\u001B[39;49m\u001B[43margs\u001B[49m\u001B[43m,\u001B[49m\u001B[43m \u001B[49m\u001B[38;5;241;43m*\u001B[39;49m\u001B[38;5;241;43m*\u001B[39;49m\u001B[43mkwds\u001B[49m\u001B[43m)\u001B[49m)\n\u001B[0;32m    126\u001B[0m \u001B[38;5;28;01mexcept\u001B[39;00m \u001B[38;5;167;01mException\u001B[39;00m \u001B[38;5;28;01mas\u001B[39;00m e:\n\u001B[0;32m    127\u001B[0m     \u001B[38;5;28;01mif\u001B[39;00m wrap_exception \u001B[38;5;129;01mand\u001B[39;00m func \u001B[38;5;129;01mis\u001B[39;00m \u001B[38;5;129;01mnot\u001B[39;00m _helper_reraises_exception:\n",
      "File \u001B[1;32m~\\Documents\\github.com\\hellovertex\\Thesis\\venv\\lib\\site-packages\\azureml\\_restclient\\snapshots_client.py:87\u001B[0m, in \u001B[0;36mSnapshotsClient.create_snapshot\u001B[1;34m(self, file_or_folder_path, retry_on_failure, raise_on_validation_failure)\u001B[0m\n\u001B[0;32m     84\u001B[0m ignore_file \u001B[38;5;241m=\u001B[39m get_project_ignore_file(file_or_folder_path)\n\u001B[0;32m     85\u001B[0m exclude_function \u001B[38;5;241m=\u001B[39m ignore_file\u001B[38;5;241m.\u001B[39mis_file_excluded\n\u001B[1;32m---> 87\u001B[0m \u001B[38;5;28;43mself\u001B[39;49m\u001B[38;5;241;43m.\u001B[39;49m\u001B[43m_validate_snapshot_size\u001B[49m\u001B[43m(\u001B[49m\u001B[43mfile_or_folder_path\u001B[49m\u001B[43m,\u001B[49m\u001B[43m \u001B[49m\u001B[43mexclude_function\u001B[49m\u001B[43m,\u001B[49m\u001B[43m \u001B[49m\u001B[43mraise_on_validation_failure\u001B[49m\u001B[43m)\u001B[49m\n\u001B[0;32m     89\u001B[0m \u001B[38;5;66;03m# Get the previous snapshot for this project\u001B[39;00m\n\u001B[0;32m     90\u001B[0m \u001B[38;5;28;01mtry\u001B[39;00m:\n",
      "File \u001B[1;32m~\\Documents\\github.com\\hellovertex\\Thesis\\venv\\lib\\site-packages\\azureml\\_restclient\\snapshots_client.py:65\u001B[0m, in \u001B[0;36mSnapshotsClient._validate_snapshot_size\u001B[1;34m(self, file_or_folder_path, exclude_function, raise_on_validation_failure)\u001B[0m\n\u001B[0;32m     56\u001B[0m error_message \u001B[38;5;241m=\u001B[39m \u001B[38;5;124m\"\u001B[39m\u001B[38;5;124m====================================================================\u001B[39m\u001B[38;5;130;01m\\n\u001B[39;00m\u001B[38;5;124m\"\u001B[39m \\\n\u001B[0;32m     57\u001B[0m                 \u001B[38;5;124m\"\u001B[39m\u001B[38;5;130;01m\\n\u001B[39;00m\u001B[38;5;124m\"\u001B[39m \\\n\u001B[0;32m     58\u001B[0m                 \u001B[38;5;124m\"\u001B[39m\u001B[38;5;124mWhile attempting to take snapshot of \u001B[39m\u001B[38;5;132;01m{}\u001B[39;00m\u001B[38;5;130;01m\\n\u001B[39;00m\u001B[38;5;124m\"\u001B[39m \\\n\u001B[1;32m   (...)\u001B[0m\n\u001B[0;32m     62\u001B[0m                 \u001B[38;5;124m\"\u001B[39m\u001B[38;5;124m====================================================================\u001B[39m\u001B[38;5;130;01m\\n\u001B[39;00m\u001B[38;5;124m\"\u001B[39m \\\n\u001B[0;32m     63\u001B[0m                 \u001B[38;5;124m\"\u001B[39m\u001B[38;5;130;01m\\n\u001B[39;00m\u001B[38;5;124m\"\u001B[39m\u001B[38;5;241m.\u001B[39mformat(file_or_folder_path, SNAPSHOT_MAX_SIZE_BYTES \u001B[38;5;241m/\u001B[39m ONE_MB)\n\u001B[0;32m     64\u001B[0m \u001B[38;5;28;01mif\u001B[39;00m raise_on_validation_failure:\n\u001B[1;32m---> 65\u001B[0m     \u001B[38;5;28;01mraise\u001B[39;00m SnapshotException(error_message)\n\u001B[0;32m     66\u001B[0m \u001B[38;5;28;01melse\u001B[39;00m:\n\u001B[0;32m     67\u001B[0m     \u001B[38;5;28mself\u001B[39m\u001B[38;5;241m.\u001B[39m_logger\u001B[38;5;241m.\u001B[39mwarning(error_message)\n",
      "\u001B[1;31mSnapshotException\u001B[0m: SnapshotException:\n\tMessage: ====================================================================\n\nWhile attempting to take snapshot of C:\\Users\\hellovertex\\Documents\\github.com\\hellovertex\\Thesis\nYour total snapshot size exceeds the limit of 300.0 MB.\nPlease see http://aka.ms/aml-largefiles on how to work with large files.\n\n====================================================================\n\n\n\tInnerException None\n\tErrorResponse \n{\n    \"error\": {\n        \"message\": \"====================================================================\\n\\nWhile attempting to take snapshot of C:\\\\Users\\\\hellovertex\\\\Documents\\\\github.com\\\\hellovertex\\\\Thesis\\nYour total snapshot size exceeds the limit of 300.0 MB.\\nPlease see http://aka.ms/aml-largefiles on how to work with large files.\\n\\n====================================================================\\n\\n\"\n    }\n}"
     ]
    }
   ],
   "source": [
    "exp = Experiment(ws, 'supervised_baseline_training')\n",
    "run = exp.submit(config)\n",
    "print(run.get_portal_url())\n",
    "\n",
    "\n",
    "\n"
   ],
   "metadata": {
    "collapsed": false,
    "pycharm": {
     "name": "#%%\n"
    }
   }
  }
 ],
 "metadata": {
  "kernelspec": {
   "display_name": "Python 3",
   "language": "python",
   "name": "python3"
  },
  "language_info": {
   "codemirror_mode": {
    "name": "ipython",
    "version": 2
   },
   "file_extension": ".py",
   "mimetype": "text/x-python",
   "name": "python",
   "nbconvert_exporter": "python",
   "pygments_lexer": "ipython2",
   "version": "2.7.6"
  }
 },
 "nbformat": 4,
 "nbformat_minor": 0
}