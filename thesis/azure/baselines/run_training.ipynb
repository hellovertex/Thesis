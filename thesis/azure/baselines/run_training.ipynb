{
 "cells": [
  {
   "cell_type": "code",
   "execution_count": 13,
   "metadata": {
    "collapsed": true
   },
   "outputs": [],
   "source": [
    "from azureml.core import Workspace\n",
    "from azureml.core import ScriptRunConfig\n",
    "from azureml.core import Environment\n",
    "from azureml.core import Experiment\n",
    "from azureml.core import Datastore, Dataset\n",
    "\n",
    "ws = Workspace.from_config()\n",
    "compute_target = ws.compute_targets['sla-k80']\n",
    "PROJECT_ROOT = '../../'\n",
    "# environment = Environment.from_pip_requirements('env', PROJECT_ROOT+'../requirements_azure')\n",
    "ds = ws.get_default_datastore()"
   ]
  },
  {
   "cell_type": "code",
   "execution_count": 14,
   "outputs": [
    {
     "name": "stdout",
     "output_type": "stream",
     "text": [
      "<azureml.data.dataset_consumption_config.DatasetConsumptionConfig object at 0x0000025873B70760>\n"
     ]
    }
   ],
   "source": [
    "# data_ref = ds.path('preprocessed.zip').as_download()\n",
    "# print(data_ref.to_config().__dict__)\n",
    "\n",
    "input_data = Dataset.File.from_files(ds.path('preprocessed.parquet/')).as_named_input('input').as_mount()\n",
    "print(input_data)"
   ],
   "metadata": {
    "collapsed": false,
    "pycharm": {
     "name": "#%%\n"
    }
   }
  },
  {
   "cell_type": "code",
   "execution_count": 15,
   "outputs": [],
   "source": [
    "# data_ref = ds.path('preprocessed.zip').as_download()\n",
    "# path_on_compute='~/cloudfiles/code/Users/sascha.lange/data/'\n",
    "# command = f'bash setup.sh && python baselines/supervised_learning/modelling/train.py --t {str(data_ref)}'.split()\n",
    "# command = f'bash setup.sh && python baselines/supervised_learning/modelling/train.py'.split()\n",
    "command = ['bash',\n",
    " 'setup.sh',\n",
    " '&&',\n",
    " 'python',\n",
    " 'baselines/supervised_learning/modelling/train.py', '-t', input_data]\n",
    "config = ScriptRunConfig(\n",
    "    command=command,\n",
    "    compute_target=compute_target,  # compute target used to run train.py script\n",
    "    source_directory=PROJECT_ROOT\n",
    "    # environment=environment,\n",
    "    # script='baselines/supervised_learning/modelling/train.py',\n",
    ")\n",
    "\n",
    "# config.run_config.data_references[data_ref.data_reference_name] = data_ref.to_config()"
   ],
   "metadata": {
    "collapsed": false,
    "pycharm": {
     "name": "#%%\n"
    }
   }
  },
  {
   "cell_type": "code",
   "execution_count": null,
   "outputs": [
    {
     "name": "stdout",
     "output_type": "stream",
     "text": [
      "Run(Experiment: supervised_baseline_training,\n",
      "Id: supervised_baseline_training_1648261022_80792026,\n",
      "Type: azureml.scriptrun,\n",
      "Status: Preparing)\n",
      "RunId: supervised_baseline_training_1648261022_80792026\n",
      "Web View: https://ml.azure.com/runs/supervised_baseline_training_1648261022_80792026?wsid=/subscriptions/2eab4702-c402-4a9c-8fa9-a432d38f3551/resourcegroups/master-sla/workspaces/master-sla-ws&tid=291d05b0-1020-4f36-aac5-b26d20661fe5\n",
      "\n",
      "Streaming azureml-logs/55_azureml-execution-tvmps_9303dbd08d779d91f2f2915cff84c89b5e3035ae6043bf94e736b027e68ff53f_d.txt\n",
      "========================================================================================================================\n",
      "\n",
      "2022-03-26T02:17:34Z Running following command: /bin/bash -c sudo blobfuse /mnt/batch/tasks/shared/LS_root/jobs/master-sla-ws/azureml/supervised_baseline_training_1648261022_80792026/mounts/workspaceblobstore --tmp-path=/mnt/batch/tasks/shared/LS_root/jobs/master-sla-ws/azureml/supervised_baseline_training_1648261022_80792026/caches/workspaceblobstore -o ro --file-cache-timeout-in-seconds=1000000 --cache-size-mb=256973 -o nonempty -o allow_other --config-file=/mnt/batch/tasks/shared/LS_root/jobs/master-sla-ws/azureml/supervised_baseline_training_1648261022_80792026/configs/workspaceblobstore.cfg --log-level=LOG_WARNING\n",
      "2022-03-26T02:17:34Z Successfully mounted a/an Blobfuse File System at /mnt/batch/tasks/shared/LS_root/jobs/master-sla-ws/azureml/supervised_baseline_training_1648261022_80792026/mounts/workspaceblobstore -- stdout/stderr: \n",
      "2022-03-26T02:17:35Z Failed to start nvidia-fabricmanager due to exit status 5 with output Failed to start nvidia-fabricmanager.service: Unit nvidia-fabricmanager.service not found.\n",
      ". Please ignore this if the GPUs don't utilize NVIDIA® NVLink® switches.\n",
      "2022-03-26T02:17:35Z Starting output-watcher...\n",
      "2022-03-26T02:17:35Z IsDedicatedCompute == True, won't poll for Low Pri Preemption\n",
      "2022-03-26T02:17:35Z Executing 'Copy ACR Details file' on 10.0.0.5\n",
      "2022-03-26T02:17:35Z Copy ACR Details file succeeded on 10.0.0.5. Output: \n",
      ">>>   \n",
      ">>>   \n",
      "Login Succeeded\n",
      "Using default tag: latest\n",
      "latest: Pulling from azureml/azureml_f7dca5f5f0dac270c156fcb7f532f287\n",
      "Digest: sha256:1ba0fe158be6cf30393d682a14b245ddcb6727074eec0217cedc80252795e38b\n",
      "Status: Image is up to date for viennaglobal.azurecr.io/azureml/azureml_f7dca5f5f0dac270c156fcb7f532f287:latest\n",
      "viennaglobal.azurecr.io/azureml/azureml_f7dca5f5f0dac270c156fcb7f532f287:latest\n",
      "2022-03-26T02:17:35Z Check if container supervised_baseline_training_1648261022_80792026_DataSidecar already exist exited with 0, \n",
      "\n",
      "785678d5de3b2332880c4f7fe96deb7e9dc78b8ef1897694877061cebe2c1849\n",
      "2022-03-26T02:17:36Z Parameters for containerSetup task: useDetonationChamer set to false and sshRequired set to false \n",
      "2022-03-26T02:17:36Z containerSetup task cmd: [/mnt/batch/tasks/startup/wd/hosttools -task=containerSetup -traceContext=00-1dfd17dccc897b94eb6f0070137cc001-3d4f455c97e43e45-01 -sshRequired=false] \n",
      "2022/03/26 02:17:36 Didn't get JobInfoJson from env, now read from file\n",
      "2022/03/26 02:17:36 Suceeded read JobInfoJson from file\n",
      "2022/03/26 02:17:36 Starting App Insight Logger for task:  containerSetup\n",
      "2022/03/26 02:17:36 Version: 3.0.01901.0001 Branch: .SourceBranch Commit: cb38eb8\n",
      "2022/03/26 02:17:36 Entered ContainerSetupTask - Preparing infiniband\n",
      "2022/03/26 02:17:36 Starting infiniband setup\n",
      "2022/03/26 02:17:36 Python Version found is Python 3.7.9\n",
      "\n",
      "2022/03/26 02:17:36 Returning Python Version as 3.7\n",
      "2022-03-26T02:17:36Z VMSize: standard_nc6, Host: ubuntu-18, Container: ubuntu-16.04\n",
      "2022/03/26 02:17:36 VMSize: standard_nc6, Host: ubuntu-18, Container: ubuntu-16.04\n",
      "2022/03/26 02:17:36 VMSize: standard_nc6, Host: ubuntu-18, Container: ubuntu-16.04\n",
      "2022/03/26 02:17:36 /dev/infiniband/uverbs0 found (implying presence of InfiniBand)?: false\n",
      "2022-03-26T02:17:36Z Not setting up Infiniband in Container\n",
      "2022/03/26 02:17:36 Not setting up Infiniband in Container\n",
      "2022/03/26 02:17:36 Not setting up Infiniband in Container\n",
      "2022/03/26 02:17:36 Python Version found is Python 3.7.9\n",
      "\n",
      "2022/03/26 02:17:36 Returning Python Version as 3.7\n",
      "2022/03/26 02:17:36 sshd inside container not required for job, skipping setup.\n",
      "2022/03/26 02:17:36 All App Insights Logs was sent successfully or the close timeout of 10 was reached\n",
      "2022/03/26 02:17:36 App Insight Client has already been closed\n",
      "2022/03/26 02:17:36 Not exporting to RunHistory as the exporter is either stopped or there is no data.\n",
      "Stopped: false\n",
      "OriginalData: 1\n",
      "FilteredData: 0.\n",
      "2022-03-26T02:17:36Z Starting docker container succeeded.\n"
     ]
    }
   ],
   "source": [
    "exp = Experiment(ws, 'supervised_baseline_training')\n",
    "exp.start_logging()\n",
    "run = exp.submit(config)\n",
    "print(run)\n",
    "run.wait_for_completion(show_output=True)"
   ],
   "metadata": {
    "collapsed": false,
    "pycharm": {
     "name": "#%%\n",
     "is_executing": true
    }
   }
  }
 ],
 "metadata": {
  "kernelspec": {
   "display_name": "Python 3",
   "language": "python",
   "name": "python3"
  },
  "language_info": {
   "codemirror_mode": {
    "name": "ipython",
    "version": 2
   },
   "file_extension": ".py",
   "mimetype": "text/x-python",
   "name": "python",
   "nbconvert_exporter": "python",
   "pygments_lexer": "ipython2",
   "version": "2.7.6"
  }
 },
 "nbformat": 4,
 "nbformat_minor": 0
}