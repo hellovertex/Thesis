{
  "cells": [
    {
      "cell_type": "code",
      "source": [
        "import os\n",
        "import pandas as pd\n",
        "from azureml.core import Workspace, Dataset"
      ],
      "outputs": [],
      "execution_count": 2,
      "metadata": {
        "gather": {
          "logged": 1645163530055
        }
      },
      "id": "19e6fe5d"
    },
    {
      "cell_type": "code",
      "source": [
        "# Connect to Workspace and reference Dataset\n",
        "ws = Workspace.from_config()\n",
        "dataset = ws.datasets[\"bulk-hands\"]"
      ],
      "outputs": [],
      "execution_count": 3,
      "metadata": {
        "gather": {
          "logged": 1645163533779
        }
      },
      "id": "bc1739ac"
    },
    {
      "cell_type": "code",
      "source": [
        "print(dataset.name)"
      ],
      "outputs": [
        {
          "output_type": "stream",
          "name": "stdout",
          "text": "bulk-hands\n"
        }
      ],
      "execution_count": 4,
      "metadata": {
        "jupyter": {
          "source_hidden": false,
          "outputs_hidden": false
        },
        "nteract": {
          "transient": {
            "deleting": false
          }
        },
        "gather": {
          "logged": 1645163535061
        }
      },
      "id": "c7fd9db2-91e1-4a66-bfeb-1ecb67dec576"
    },
    {
      "cell_type": "code",
      "source": [
        "# Create mountcontext and mount the dataset\n",
        "mount_ctx = dataset.mount()  \n",
        "mount_ctx.start()  "
      ],
      "outputs": [],
      "execution_count": 5,
      "metadata": {
        "gather": {
          "logged": 1645163546610
        }
      },
      "id": "3b7c52b4"
    },
    {
      "cell_type": "code",
      "source": [
        "# Get the mount point\n",
        "dataset_mount_folder = mount_ctx.mount_point\n",
        "print(dataset_mount_folder)"
      ],
      "outputs": [
        {
          "output_type": "stream",
          "name": "stdout",
          "text": "/tmp/tmpi3set996\n"
        }
      ],
      "execution_count": 6,
      "metadata": {
        "gather": {
          "logged": 1645163548692
        }
      },
      "id": "2281566c"
    },
    {
      "cell_type": "code",
      "source": [
        "# List the files in the mount point\n",
        "files = os.listdir(dataset_mount_folder)\n",
        "print(files)"
      ],
      "outputs": [
        {
          "output_type": "stream",
          "name": "stdout",
          "text": "['BulkHands-14686.zip']\n"
        }
      ],
      "execution_count": 7,
      "metadata": {
        "gather": {
          "logged": 1645163550904
        }
      },
      "id": "2ef12842"
    },
    {
      "cell_type": "code",
      "source": [
        "from zipfile import ZipFile\n",
        "import io"
      ],
      "outputs": [],
      "execution_count": 8,
      "metadata": {
        "gather": {
          "logged": 1645163552678
        }
      },
      "id": "19cf2825"
    },
    {
      "cell_type": "code",
      "source": [
        "target_dir = '/mnt/batch/tasks/shared/LS_root/mounts/clusters/hellovertex1/code/Users/hellovertex/Documents/github.com/hellovertex/Thesis/data/0.25-0.50/unzipped/'\n",
        "\n",
        "def extract(filename):\n",
        "    z = ZipFile(filename)\n",
        "    for f in z.namelist():  \n",
        "        # read inner zip file into bytes buffer \n",
        "        content = io.BytesIO(z.read(f))\n",
        "        zip_file = ZipFile(content)\n",
        "        for i in zip_file.namelist():\n",
        "            f_path = target_dir + os.path.splitext(f)[0]\n",
        "            zip_file.extract(i, f_path)\n",
        "            \n",
        "\n",
        "extract(dataset_mount_folder + '/' + files[0])"
      ],
      "outputs": [],
      "execution_count": 11,
      "metadata": {
        "gather": {
          "logged": 1645163695577
        }
      },
      "id": "0d8d67a6"
    },
    {
      "cell_type": "code",
      "source": [],
      "outputs": [],
      "execution_count": null,
      "metadata": {},
      "id": "879dd859"
    }
  ],
  "metadata": {
    "kernelspec": {
      "name": "python38-azureml",
      "language": "python",
      "display_name": "Python 3.8 - AzureML"
    },
    "language_info": {
      "name": "python",
      "version": "3.8.1",
      "mimetype": "text/x-python",
      "codemirror_mode": {
        "name": "ipython",
        "version": 3
      },
      "pygments_lexer": "ipython3",
      "nbconvert_exporter": "python",
      "file_extension": ".py"
    },
    "kernel_info": {
      "name": "python38-azureml"
    },
    "microsoft": {
      "host": {
        "AzureML": {
          "notebookHasBeenCompleted": true
        }
      }
    },
    "nteract": {
      "version": "nteract-front-end@1.0.0"
    }
  },
  "nbformat": 4,
  "nbformat_minor": 5
}